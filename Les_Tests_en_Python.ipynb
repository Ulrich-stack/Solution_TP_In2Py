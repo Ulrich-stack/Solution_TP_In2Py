{
 "cells": [
  {
   "cell_type": "markdown",
   "metadata": {},
   "source": [
    "<h1>Les Tests en Python</h1>"
   ]
  },
  {
   "cell_type": "markdown",
   "metadata": {},
   "source": [
    "<b>Définition</b><br />\n",
    "Un test n'est rien d'autre qu'un essai ou une opération que l'on effectue pour vérifier qu'un composant de notre programme se comporte comme on le voudrait."
   ]
  },
  {
   "cell_type": "markdown",
   "metadata": {},
   "source": [
    "<b>Les types de test</b><br />\n",
    "Il existe différents types de test :<br />\n",
    "<ul>\n",
    "    <li>les tests manuels</li>\n",
    "    <li>les tests automatisés</li>\n",
    "    <li>les tests unitaires</li>\n",
    "    <li>les tests d'intégration</li>\n",
    "</ul>\n",
    "<br />\n",
    "<b>Les tests manuels</b><br />\n",
    "Ce sont ces tests que vous réalisez presque tout le temps dès que vous commencez à déboguer un programme.<br />\n",
    "Ainsi, tout ce dont avez besoin est de faire un plan de test c'est-à-dire une liste des fonctionnalités de votre programme, des différents types d'entrée qu'il peut recevoir et des résultats attendus. Maintenant, chaque fois que vous modifiez le code de votre programme, vous devez revérifier tous les éléments de votre plan.<br />\n",
    "Considérons la fonction suivante !"
   ]
  },
  {
   "cell_type": "code",
   "execution_count": 1,
   "metadata": {},
   "outputs": [],
   "source": [
    "def factorielle(n):\n",
    "    fact = 1\n",
    "    for i in range(2, n+1):\n",
    "        fact *= i\n",
    "    return fact"
   ]
  },
  {
   "cell_type": "markdown",
   "metadata": {},
   "source": [
    "Considérons à présent ce plan de test:\n",
    "<ul>\n",
    "    <li>la fonction renvoie -1 si n n'est pas de type int</li>\n",
    "    <li>la fonction renvoie -1 si n n'est pas un entier positif</li>\n",
    "    <li>la fonction renvoie 1 si n vaut 0</li>\n",
    "    <li>la fonction renvoie 120 si n vaut 5</li>\n",
    "</ul>"
   ]
  },
  {
   "cell_type": "markdown",
   "metadata": {},
   "source": [
    "Que se passe t-il lorsque n n'est pas de type int ?"
   ]
  },
  {
   "cell_type": "code",
   "execution_count": 2,
   "metadata": {},
   "outputs": [
    {
     "ename": "TypeError",
     "evalue": "'float' object cannot be interpreted as an integer",
     "output_type": "error",
     "traceback": [
      "\u001b[0;31m---------------------------------------------------------------------------\u001b[0m",
      "\u001b[0;31mTypeError\u001b[0m                                 Traceback (most recent call last)",
      "Input \u001b[0;32mIn [2]\u001b[0m, in \u001b[0;36m<cell line: 1>\u001b[0;34m()\u001b[0m\n\u001b[0;32m----> 1\u001b[0m \u001b[38;5;28mprint\u001b[39m(\u001b[43mfactorielle\u001b[49m\u001b[43m(\u001b[49m\u001b[38;5;241;43m2.8\u001b[39;49m\u001b[43m)\u001b[49m)\n",
      "Input \u001b[0;32mIn [1]\u001b[0m, in \u001b[0;36mfactorielle\u001b[0;34m(n)\u001b[0m\n\u001b[1;32m      1\u001b[0m \u001b[38;5;28;01mdef\u001b[39;00m \u001b[38;5;21mfactorielle\u001b[39m(n):\n\u001b[1;32m      2\u001b[0m     fact \u001b[38;5;241m=\u001b[39m \u001b[38;5;241m1\u001b[39m\n\u001b[0;32m----> 3\u001b[0m     \u001b[38;5;28;01mfor\u001b[39;00m i \u001b[38;5;129;01min\u001b[39;00m \u001b[38;5;28;43mrange\u001b[39;49m\u001b[43m(\u001b[49m\u001b[38;5;241;43m2\u001b[39;49m\u001b[43m,\u001b[49m\u001b[43m \u001b[49m\u001b[43mn\u001b[49m\u001b[38;5;241;43m+\u001b[39;49m\u001b[38;5;241;43m1\u001b[39;49m\u001b[43m)\u001b[49m:\n\u001b[1;32m      4\u001b[0m         fact \u001b[38;5;241m*\u001b[39m\u001b[38;5;241m=\u001b[39m i\n\u001b[1;32m      5\u001b[0m     \u001b[38;5;28;01mreturn\u001b[39;00m fact\n",
      "\u001b[0;31mTypeError\u001b[0m: 'float' object cannot be interpreted as an integer"
     ]
    }
   ],
   "source": [
    "print(factorielle(2.8)) # Cet appel ne donne pas le résultat attendu, il provoque une erreur"
   ]
  },
  {
   "cell_type": "markdown",
   "metadata": {},
   "source": [
    "Résolvons le problème."
   ]
  },
  {
   "cell_type": "code",
   "execution_count": 3,
   "metadata": {},
   "outputs": [],
   "source": [
    "def factorielle(n):\n",
    "    if('int' not in str(type(n))):\n",
    "        return -1\n",
    "    fact = 1\n",
    "    for i in range(2, n+1):\n",
    "        fact *= i\n",
    "    return fact"
   ]
  },
  {
   "cell_type": "markdown",
   "metadata": {},
   "source": [
    "Testons à nouveau depuis le début."
   ]
  },
  {
   "cell_type": "code",
   "execution_count": 4,
   "metadata": {},
   "outputs": [
    {
     "name": "stdout",
     "output_type": "stream",
     "text": [
      "-1\n"
     ]
    }
   ],
   "source": [
    "print(factorielle(2.8)) # Cet appel donne maintenant le résultat attendu, ie qu'il retourne -1"
   ]
  },
  {
   "cell_type": "markdown",
   "metadata": {},
   "source": [
    "Que se passe t-il lorsque n est un entier strictement négatif ?"
   ]
  },
  {
   "cell_type": "code",
   "execution_count": 5,
   "metadata": {},
   "outputs": [
    {
     "name": "stdout",
     "output_type": "stream",
     "text": [
      "1\n"
     ]
    }
   ],
   "source": [
    "print(factorielle(-7)) # Cet appel ne renvoie pas -1 comme prévu"
   ]
  },
  {
   "cell_type": "markdown",
   "metadata": {},
   "source": [
    "Résolvons le problème."
   ]
  },
  {
   "cell_type": "code",
   "execution_count": 6,
   "metadata": {},
   "outputs": [],
   "source": [
    "def factorielle(n):\n",
    "    if('int' not in str(type(n))):\n",
    "        return -1\n",
    "    if(n < 0):\n",
    "        return -1\n",
    "    fact = 1\n",
    "    for i in range(2, n+1):\n",
    "        fact *= i\n",
    "    return fact"
   ]
  },
  {
   "cell_type": "markdown",
   "metadata": {},
   "source": [
    "Testons à nouveau depuis le début."
   ]
  },
  {
   "cell_type": "code",
   "execution_count": 7,
   "metadata": {},
   "outputs": [
    {
     "name": "stdout",
     "output_type": "stream",
     "text": [
      "-1\n",
      "-1\n"
     ]
    }
   ],
   "source": [
    "print(factorielle(2.8)) # Cet appel renvoie toujours -1 lorque l'entrée n'est pas de type int\n",
    "print(factorielle(-7))  # Cet appel renvoie maintenant -1"
   ]
  },
  {
   "cell_type": "markdown",
   "metadata": {},
   "source": [
    "La fonction renvoie t-elle 1 lorsque n vaut 0 ? On constate que c'est bien le cas.<br />\n",
    "La fonction renvoie t-elle 120 lorsque n vaut 5 ? On constate aussi que c'est bien le cas."
   ]
  },
  {
   "cell_type": "code",
   "execution_count": 8,
   "metadata": {},
   "outputs": [
    {
     "name": "stdout",
     "output_type": "stream",
     "text": [
      "-1\n",
      "-1\n",
      "1\n",
      "120\n"
     ]
    }
   ],
   "source": [
    "print(factorielle(2.8)) # Cet appel renvoie -1\n",
    "print(factorielle(-7))  # Cet appel renvoie -1\n",
    "print(factorielle(0))   # Cet appel renvoie 1\n",
    "print(factorielle(5))   # Cet appel renvoie 120"
   ]
  },
  {
   "cell_type": "markdown",
   "metadata": {},
   "source": [
    "Comme vous pouvez vous en rendre compte, un test manuel peu vite devenir très fastidieux et très complexe lorsque vous travaillez sur de gros projets. C'est donc là qu'interviennent les tests automatisés !<br />"
   ]
  },
  {
   "cell_type": "markdown",
   "metadata": {},
   "source": [
    "<b>Les tests automatisés</b><br />\n",
    "Ces tests vous permettent d'exécuter votre plan de test à partir d'un script plûtot que de le faire vous même étape par étape.<br />\n",
    "Python dispose d'un ensemble d'outils et de librairies pour nous aider à réaliser des tests automatisés pour nos programmes."
   ]
  },
  {
   "cell_type": "markdown",
   "metadata": {},
   "source": [
    "<b>Tests unitaires et tests d'intégration</b><br />\n",
    "Voici un petit exemple pour comprendre la différence entre ces deux tests.<br />\n",
    "Imaginez que votre ordinateur s'éteint tout d'un coup alors qu'il était allumé. Vous vérifiez si la batterie est déchargée ou a un problème. Vous vous rendez compte que la batterie n'a aucun problème. Vous vérifiez ensuite si l'écran a un problème. Toujours rien. Vous vérifiez ensuite la carte mère et vous vous rendez compte qu'elle ne fonctionne plus (RIP !).<br />\n",
    "Le fait de tester plusieurs composants de votre ordinateur est ce qu'on appelera un test d'intégration.<br />\n",
    "Par contre, un test unitaire est un plus petit test qui vous permet d'identifier l'élément interne à la carte mère qui a causé son dysfonctionnement.<br />\n",
    "Dans nos programmes, les composants représenteront les classes, les fonctions et les modules que nous aurons écrits (ou pas)."
   ]
  },
  {
   "cell_type": "markdown",
   "metadata": {},
   "source": [
    "Le grand défi des tests d'intégration survient lorsqu'un test ne donne pas le résultat attendu. Il est alors difficile d'identifier le problème sans isoler chacune des parties du système qui ne fonctionne pas. Imaginez qu'en plus de la carte mère, la RAM aussi avait des problèmes. Le fait de réparer uniquement la carte mère ne résoudra pas votre problème."
   ]
  },
  {
   "cell_type": "markdown",
   "metadata": {},
   "source": [
    "Il existe plusieurs lanceurs de test (test runner) disponibles pour Python. Celui qui est intégré dans la bibliothèque standard de Python se nomme unittest. C'est celui que nous utiliserons dans ce calpin pour effectuer des tests.\n",
    "unittest est disponible à partir de la version 2.1 de Python.<br />\n",
    "Pour écrire des tests en utilisant cette librairie, il nous faudra:\n",
    "<ul>\n",
    "    <li>créer nos tests comme étant des méhodes de classes</li>\n",
    "    <li>utiliser les méthodes de la classe unittest.TestCase</li>\n",
    "</ul>"
   ]
  },
  {
   "cell_type": "markdown",
   "metadata": {},
   "source": [
    "<b>Nos premiers pas avec les tests</b><br />"
   ]
  },
  {
   "cell_type": "markdown",
   "metadata": {},
   "source": [
    "<b>1- Les tests d'assertions</b><br />\n",
    "Nous allons tester la fonction <i>sum</i> de Python."
   ]
  },
  {
   "cell_type": "code",
   "execution_count": 9,
   "metadata": {},
   "outputs": [
    {
     "name": "stderr",
     "output_type": "stream",
     "text": [
      ".F\n",
      "======================================================================\n",
      "FAIL: test_sum_tuple (__main__.TestSum)\n",
      "----------------------------------------------------------------------\n",
      "Traceback (most recent call last):\n",
      "  File \"/tmp/ipykernel_12597/90388976.py\", line 6, in test_sum_tuple\n",
      "    self.assertEqual(sum((1, 2, 2)), 6, \"Devrait valoir 6\") # on vérifie si la somme de 1, 2 et 2 donne 6\n",
      "AssertionError: 5 != 6 : Devrait valoir 6\n",
      "\n",
      "----------------------------------------------------------------------\n",
      "Ran 2 tests in 0.003s\n",
      "\n",
      "FAILED (failures=1)\n"
     ]
    }
   ],
   "source": [
    "import unittest\n",
    "class TestSum(unittest.TestCase):               # on crée la classe TestSum qui hérite de la classe unittest.TestCase\n",
    "    def test_sum_list(self):                    # premier test\n",
    "        self.assertEqual(sum([1, 2, 3]), 6, \"Devrait valoir 6\") # on vérifie si la somme de 1, 2 et 3 donne 6\n",
    "    def test_sum_tuple(self):                   # deuxième test\n",
    "        self.assertEqual(sum((1, 2, 2)), 6, \"Devrait valoir 6\") # on vérifie si la somme de 1, 2 et 2 donne 6\n",
    "\n",
    "if(__name__ == '__main__'):                     #on crée un point d'entrée\n",
    "    unittest.main(argv=['First-arg-is-ignored'], exit=False)"
   ]
  },
  {
   "cell_type": "markdown",
   "metadata": {},
   "source": [
    "Testons nos propres fonctions.<br />"
   ]
  },
  {
   "cell_type": "code",
   "execution_count": 10,
   "metadata": {},
   "outputs": [
    {
     "name": "stdout",
     "output_type": "stream",
     "text": [
      "Once deleted, variables cannot be recovered. Proceed (y/[n])? y\n"
     ]
    }
   ],
   "source": [
    "%reset\n",
    "def sum_own(arg):\n",
    "    \"\"\"\n",
    "    Renvoie la somme des entiers de la liste ou du tuple arg\n",
    "    \"\"\"\n",
    "    total = 0\n",
    "    for val in arg:\n",
    "        total += val\n",
    "    return total"
   ]
  },
  {
   "cell_type": "code",
   "execution_count": 11,
   "metadata": {},
   "outputs": [
    {
     "name": "stderr",
     "output_type": "stream",
     "text": [
      ".F\n",
      "======================================================================\n",
      "FAIL: test_sum_own_tuple (__main__.TestSumOwn)\n",
      "----------------------------------------------------------------------\n",
      "Traceback (most recent call last):\n",
      "  File \"/tmp/ipykernel_12597/3394306275.py\", line 6, in test_sum_own_tuple\n",
      "    self.assertEqual(sum_own((1, 2, 2)), 6, \"Devrait valoir 6\")\n",
      "AssertionError: 5 != 6 : Devrait valoir 6\n",
      "\n",
      "----------------------------------------------------------------------\n",
      "Ran 2 tests in 0.004s\n",
      "\n",
      "FAILED (failures=1)\n"
     ]
    }
   ],
   "source": [
    "import unittest\n",
    "class TestSumOwn(unittest.TestCase):\n",
    "    def test_sum_own__list(self):\n",
    "        self.assertEqual(sum_own([1, 2, 3]), 6, \"Devrait valoir 6\")\n",
    "    def test_sum_own_tuple(self):\n",
    "        self.assertEqual(sum_own((1, 2, 2)), 6, \"Devrait valoir 6\")\n",
    "\n",
    "if(__name__ == '__main__'):\n",
    "    unittest.main(argv=['First-arg-is-ignored'], exit=False)"
   ]
  },
  {
   "cell_type": "markdown",
   "metadata": {},
   "source": [
    "<b>2- Les tests d'exceptions</b><br />"
   ]
  },
  {
   "cell_type": "code",
   "execution_count": 12,
   "metadata": {},
   "outputs": [
    {
     "name": "stdout",
     "output_type": "stream",
     "text": [
      "Once deleted, variables cannot be recovered. Proceed (y/[n])? y\n"
     ]
    }
   ],
   "source": [
    "%reset\n",
    "def bad():\n",
    "    \"\"\"\n",
    "    Tente de faire une division par zéro\n",
    "    \"\"\"\n",
    "    somme = 2/0"
   ]
  },
  {
   "cell_type": "code",
   "execution_count": 13,
   "metadata": {},
   "outputs": [
    {
     "name": "stderr",
     "output_type": "stream",
     "text": [
      "\n",
      "----------------------------------------------------------------------\n",
      "Ran 0 tests in 0.000s\n",
      "\n",
      "OK\n"
     ]
    }
   ],
   "source": [
    "import unittest\n",
    "class TestExc(unittest.TestCase):\n",
    "    def bad_test(self):\n",
    "        with self.assertRaises(ZeroDivisionError):\n",
    "            bad()\n",
    "\n",
    "if(__name__ == '__main__'):\n",
    "    unittest.main(argv=['First-arg-is-ignored'], exit=False)"
   ]
  },
  {
   "cell_type": "markdown",
   "metadata": {},
   "source": [
    "<b>Les méthodes de la classe TestCase</b><br />"
   ]
  },
  {
   "cell_type": "markdown",
   "metadata": {},
   "source": [
    "<b>A- Les méthodes d'assertion</b><br />\n",
    "Elles permettent de vérifier et de signaler les échecs. Le tableau suivant énumère les méthodes les plus utilisées.\n",
    "<table>\n",
    "    <tr>\n",
    "        <th>Méthode</th>\n",
    "        <th>Equivalent</th>\n",
    "    </tr>\n",
    "    <tr>\n",
    "        <td>assertEqual(a, b[, msg])</td>\n",
    "        <td>a == b</td>\n",
    "    </tr>\n",
    "    <tr>\n",
    "        <td>assertNotEqual(a, b[, msg])</td>\n",
    "        <td>a != b</td>\n",
    "    </tr>\n",
    "    <tr>\n",
    "        <td>assertTrue(x[, msg])</td>\n",
    "        <td>bool(x) is True</td>\n",
    "    </tr>\n",
    "    <tr>\n",
    "        <td>assertFalse(x[, msg])</td>\n",
    "        <td>bool(x) is False</td>\n",
    "    </tr>\n",
    "    <tr>\n",
    "        <td>assertIs(a, b[, msg])</td>\n",
    "        <td>a is b</td>\n",
    "    </tr>\n",
    "    <tr>\n",
    "        <td>assertIsNot(a, b[, msg])</td>\n",
    "        <td>a is not b</td>\n",
    "    </tr>\n",
    "    <tr>\n",
    "        <td>assertIn(a, b[, msg])</td>\n",
    "        <td>a in b</td>\n",
    "    </tr>\n",
    "    <tr>\n",
    "        <td>assertIsNone(x[, msg])</td>\n",
    "        <td>x is None</td>\n",
    "    </tr>\n",
    "    <tr>\n",
    "        <td>assertIsNotNone(x[, msg])</td>\n",
    "        <td>x is not None</td>\n",
    "    </tr>\n",
    "    <tr>\n",
    "        <td>assertIn(a, b[, msg])</td>\n",
    "        <td>a in b</td>\n",
    "    </tr>\n",
    "    <tr>\n",
    "        <td>assertNotIn(a, b[, msg])</td>\n",
    "        <td>a not in b</td>\n",
    "    </tr>\n",
    "    <tr>\n",
    "        <td>assertIsInstance(a, b[, msg])</td>\n",
    "        <td>isinstance(a, b)</td>\n",
    "    </tr>\n",
    "    <tr>\n",
    "        <td>assertNotIsInstance(a, b[, msg])</td>\n",
    "        <td>notisinstance(a, b)</td>\n",
    "    </tr>\n",
    "</table>"
   ]
  },
  {
   "cell_type": "markdown",
   "metadata": {},
   "source": [
    "<b>B- Les méthodes d'exceptions</b><br />\n",
    "Elles permettent de lever des exceptions et d'autres erreurs et donc permettent de faire passer des tests même si ces exceptions ou erreurs ne sont pas pris en charge.\n",
    "<table>\n",
    "    <tr>\n",
    "        <th>Méthode</th>\n",
    "        <th>Description</th>\n",
    "    </tr>\n",
    "    <tr>\n",
    "        <td>assertRaises(exc, fonc, *args, **kwds)</td>\n",
    "        <td>Vérifie que fonc(*args, **kwds) lève bien l'exception exc</td>\n",
    "    </tr>\n",
    "    <tr>\n",
    "        <td>assertWarns(warn, fonc, *args, **kwds)</td>\n",
    "        <td>Vérifie que fonc(*args, **kwds) lève bien l'avertissement warn</td>\n",
    "    </tr>\n",
    "</table>"
   ]
  },
  {
   "cell_type": "markdown",
   "metadata": {},
   "source": [
    "<b>3- Les tests de performances</b><br />\n",
    "Il y a plusieurs manières de tester la performance d'un programme. La bibliothèque standard fournit le module <i>timeit</i> qui nous permet d'exécuter des fonctions un certain nombre de fois et nous donne la sortie et le temps d'exécution.<br />\n",
    "Le code ci-dessus exécute la fonction test() 100 fois et affiche la sortie."
   ]
  },
  {
   "cell_type": "code",
   "execution_count": 14,
   "metadata": {},
   "outputs": [
    {
     "name": "stdout",
     "output_type": "stream",
     "text": [
      "1024\n",
      "1024\n",
      "1024\n",
      "1024\n",
      "1024\n",
      "1024\n",
      "1024\n",
      "1024\n",
      "1024\n",
      "1024\n",
      "0.00013436000153888017\n"
     ]
    }
   ],
   "source": [
    "def test():\n",
    "    \"\"\"\n",
    "    Affiche la valeur de 2 à la puissance 10\n",
    "    \"\"\"\n",
    "    n = 2**10\n",
    "    print(n)\n",
    "\n",
    "if(__name__ == '__main__'):\n",
    "    import timeit\n",
    "    print(timeit.timeit(\"test()\", setup=\"from __main__ import test\", number=10))"
   ]
  },
  {
   "cell_type": "markdown",
   "metadata": {},
   "source": [
    "<b>3- Les tests de sécurité</b><br />\n",
    "Ces tests permettent de tester les erreurs ou les vulnérabiltés les plus courantes.<br />"
   ]
  },
  {
   "cell_type": "markdown",
   "metadata": {},
   "source": [
    "<b>a- Installation</b><br />\n",
    "Installer l'outil <i>bandit</i> en lançant la commande suivante:<br />\n",
    "<i>> pip3 install bandit</i><br />"
   ]
  },
  {
   "cell_type": "markdown",
   "metadata": {},
   "source": [
    "<b>b- Utilisation</b><br />\n",
    "Pour l'utiliser, lançez simplement la commande suivante:<br />\n",
    "<i>> bandit -r file.py</i><br />"
   ]
  },
  {
   "cell_type": "markdown",
   "metadata": {},
   "source": [
    "<b>Conclusion</b><br />\n",
    "Les outils et bibliothèques que nous avons présentés dans ce calepin ne sont pas les seuls. Python offre donc une panoplie d'outils et de bibliothèques pour vérifier que nos applications fonctionnent comme on le voudrait. Fonctionnalité, sécurité, robustesse, performance, etc, tout y est !"
   ]
  }
 ],
 "metadata": {
  "kernelspec": {
   "display_name": "Python 3 (ipykernel)",
   "language": "python",
   "name": "python3"
  },
  "language_info": {
   "codemirror_mode": {
    "name": "ipython",
    "version": 3
   },
   "file_extension": ".py",
   "mimetype": "text/x-python",
   "name": "python",
   "nbconvert_exporter": "python",
   "pygments_lexer": "ipython3",
   "version": "3.9.12"
  }
 },
 "nbformat": 4,
 "nbformat_minor": 4
}
