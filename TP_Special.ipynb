{
 "cells": [
  {
   "cell_type": "markdown",
   "metadata": {},
   "source": [
    "Exercice 1"
   ]
  },
  {
   "cell_type": "code",
   "execution_count": null,
   "metadata": {},
   "outputs": [],
   "source": [
    "n = int(input(\"Enter a whole number : \"))\n",
    "if(n > 0):\n",
    "    somme = 0\n",
    "    produit = 1\n",
    "    for i in range(0, n):\n",
    "        if(i%2 != 0):\n",
    "            somme += i+3\n",
    "        else:\n",
    "            produit *= i+3\n",
    "    print(\"Somme :\", somme)\n",
    "    print(\"Produit \", produit)\n",
    "else:\n",
    "    print(\"Invalid input !\")"
   ]
  },
  {
   "cell_type": "markdown",
   "metadata": {},
   "source": [
    "Exercice 2"
   ]
  },
  {
   "cell_type": "code",
   "execution_count": null,
   "metadata": {},
   "outputs": [],
   "source": [
    "n = int(input(\"Enter a number of the day of the week : \"))\n",
    "jour = ['Lundi', 'Mardi', 'Mercredi', 'Jeudi', 'Vendredi', 'Weekend']\n",
    "if(n >= 0 and n <= 6):\n",
    "    if(n >= 0 and n <= 4):\n",
    "        print(jour[n])\n",
    "    else:\n",
    "        print(jour[5])\n",
    "else:\n",
    "    print(\"Invalid input !\")"
   ]
  },
  {
   "cell_type": "markdown",
   "metadata": {},
   "source": [
    "Exercice 3"
   ]
  },
  {
   "cell_type": "code",
   "execution_count": null,
   "metadata": {},
   "outputs": [],
   "source": [
    "n = int(input(\"Enter a month number : \"))\n",
    "jour = ['Lundi', 'Mardi', 'Mercredi', 'Jeudi', 'Vendredi', 'Weekend']\n",
    "if(n >= 0 and n <= 11):\n",
    "    if(n%2 == 0):\n",
    "        print(\"31 days !\")\n",
    "    else:\n",
    "        if(n == 1):\n",
    "            print(\"28 days !\")\n",
    "        else:\n",
    "            print(\"30 days !\")\n",
    "else:\n",
    "    print(\"Invalid input !\")"
   ]
  },
  {
   "cell_type": "markdown",
   "metadata": {},
   "source": [
    "Exercice 4"
   ]
  },
  {
   "cell_type": "code",
   "execution_count": null,
   "metadata": {},
   "outputs": [],
   "source": [
    "name = \"Ange\"\n",
    "for i in range(0, 3):\n",
    "    print(name)"
   ]
  },
  {
   "cell_type": "code",
   "execution_count": null,
   "metadata": {},
   "outputs": [],
   "source": [
    "name = \"Ange\"\n",
    "i = 0\n",
    "while(i < 3):\n",
    "    print(name)\n",
    "    i += 1"
   ]
  },
  {
   "cell_type": "markdown",
   "metadata": {},
   "source": [
    "Exercice 5"
   ]
  },
  {
   "cell_type": "code",
   "execution_count": null,
   "metadata": {},
   "outputs": [],
   "source": [
    "a_0 = int(input(\"Enter the a0 value : \"))\n",
    "a_1 = int(input(\"Enter the a1 value : \"))\n",
    "\n",
    "for i in range(0, 15):\n",
    "    if(i == 0):\n",
    "        print(a_0)\n",
    "    elif(i == 1):\n",
    "        print(a_1)\n",
    "    else:\n",
    "        a_2 = a_0 + a_1\n",
    "        print(a_2)\n",
    "        (a_0, a_1) = (a_1, a_2)"
   ]
  },
  {
   "cell_type": "markdown",
   "metadata": {},
   "source": [
    "Exercice 6"
   ]
  },
  {
   "cell_type": "code",
   "execution_count": null,
   "metadata": {},
   "outputs": [],
   "source": [
    "x_0 = 0.\n",
    "x_1 = 1.\n",
    "\n",
    "print(x_0)\n",
    "print(x_1)\n",
    "for i in range(0, 28):\n",
    "    x_i = (6*x_0 + x_1) / 2\n",
    "    print(x_i)\n",
    "    (x_0, x_1) = (x_1, x_i)"
   ]
  },
  {
   "cell_type": "markdown",
   "metadata": {},
   "source": [
    "Exercice 7"
   ]
  },
  {
   "cell_type": "code",
   "execution_count": null,
   "metadata": {},
   "outputs": [],
   "source": [
    "year = int(input(\"Enter a year : \"))\n",
    "print(year%4 == 0 and year%100 != 0 or year%400 == 0)"
   ]
  },
  {
   "cell_type": "markdown",
   "metadata": {},
   "source": [
    "Exercice 8"
   ]
  },
  {
   "cell_type": "code",
   "execution_count": null,
   "metadata": {},
   "outputs": [],
   "source": [
    "n = int(input(\"Enter a natural number : \"))\n",
    "if(n > 0):\n",
    "    somme = 0\n",
    "    for i in range(0, n):\n",
    "        somme += i**2\n",
    "    print(\"Somme :\", somme)\n",
    "elif(n < 0):\n",
    "    print(\"Invalid input !\")\n",
    "else:\n",
    "    print(\"Nothing to do !\")"
   ]
  },
  {
   "cell_type": "code",
   "execution_count": null,
   "metadata": {},
   "outputs": [],
   "source": [
    "n = int(input(\"Enter a natural number : \"))\n",
    "if(n > 0):\n",
    "    somme = 0\n",
    "    i = 0\n",
    "    while(i < n):\n",
    "        somme += i**2\n",
    "        i += 1\n",
    "    print(\"Somme :\", somme)\n",
    "elif(n < 0):\n",
    "    print(\"Invalid input !\")\n",
    "else:\n",
    "    print(\"Nothing to do !\")"
   ]
  },
  {
   "cell_type": "code",
   "execution_count": null,
   "metadata": {},
   "outputs": [],
   "source": [
    "m = int(input(\"Enter a natural number : \"))\n",
    "if(m >= 0):\n",
    "    somme = 0\n",
    "    for i in range(0, m+1):\n",
    "        somme += i**2\n",
    "        if(somme >= m):\n",
    "            print(i)\n",
    "            break\n",
    "else:\n",
    "    print(\"Invalid input !\")"
   ]
  },
  {
   "cell_type": "code",
   "execution_count": null,
   "metadata": {},
   "outputs": [],
   "source": [
    "m = int(input(\"Enter a natural number : \"))\n",
    "if(m >= 0):\n",
    "    somme = 0\n",
    "    i = 0\n",
    "    while(i <= m):\n",
    "        somme += i**2\n",
    "        if(somme >= m):\n",
    "            print(i)\n",
    "            break\n",
    "        i += 1\n",
    "else:\n",
    "    print(\"Invalid input !\")"
   ]
  },
  {
   "cell_type": "markdown",
   "metadata": {},
   "source": [
    "Exercice 9"
   ]
  },
  {
   "cell_type": "code",
   "execution_count": null,
   "metadata": {},
   "outputs": [],
   "source": [
    "n = int(input(\"Enter a natural number : \"))\n",
    "if(n == 0):\n",
    "    print(\"Every integer except 0 divides\", n)\n",
    "elif(n > 0):\n",
    "    for i in range(1, n+1):\n",
    "        if(n%i == 0):\n",
    "            print(i)\n",
    "else:\n",
    "    for i in range(n, abs(n)+1):\n",
    "        if(i != 0 and n%i == 0):\n",
    "            print(i)"
   ]
  },
  {
   "cell_type": "code",
   "execution_count": null,
   "metadata": {},
   "outputs": [],
   "source": [
    "n = int(input(\"Enter a natural number : \"))\n",
    "if(n == 0):\n",
    "    print(\"Every prime number divides\", n)\n",
    "else:\n",
    "    n = abs(n)\n",
    "    i = 2\n",
    "    divisors = []\n",
    "    while(n != 1):\n",
    "        if(n%i == 0):\n",
    "            if(not(i in divisors)):\n",
    "                divisors.append(i)\n",
    "                print(i)\n",
    "            n = n / i\n",
    "            i = 2\n",
    "        else:\n",
    "            i += 1"
   ]
  },
  {
   "cell_type": "markdown",
   "metadata": {},
   "source": [
    "Exercice 10"
   ]
  },
  {
   "cell_type": "code",
   "execution_count": null,
   "metadata": {},
   "outputs": [],
   "source": [
    "n = int(input(\"Enter a natural number between 0 and 9 : \"))\n",
    "N = int(input(\"Enter another natural number : \"))\n",
    "if(N >= 0):\n",
    "    for i in range(0, N+1):\n",
    "        print(n,\"x\",i,\"=\",n*i)\n",
    "else:\n",
    "    print(\"Invalid input !\")"
   ]
  },
  {
   "cell_type": "markdown",
   "metadata": {},
   "source": [
    "Exercice 11"
   ]
  },
  {
   "cell_type": "code",
   "execution_count": null,
   "metadata": {},
   "outputs": [],
   "source": [
    "for i in range(0, 41):\n",
    "    if(i%3 == 0 or i%7 == 0 or i%11 == 0):\n",
    "        print(i)"
   ]
  },
  {
   "cell_type": "markdown",
   "metadata": {},
   "source": [
    "Exercice 12"
   ]
  },
  {
   "cell_type": "code",
   "execution_count": null,
   "metadata": {},
   "outputs": [],
   "source": [
    "x = input(\"Enter a decimal number : \")\n",
    "if('.' in x):\n",
    "    ch = x.split(\".\")\n",
    "    x = int(ch[0])\n",
    "    if(x < 0):\n",
    "        print(x-1)\n",
    "    else:\n",
    "        print(x)\n",
    "else:\n",
    "    print(x)"
   ]
  },
  {
   "cell_type": "markdown",
   "metadata": {},
   "source": [
    "Exercice 13"
   ]
  },
  {
   "cell_type": "code",
   "execution_count": null,
   "metadata": {},
   "outputs": [],
   "source": [
    "while(True):\n",
    "    a = float(input(\"Abscisse : \"))\n",
    "    b = float(input(\"Ordonnee : \"))\n",
    "    if(a == 0 and b == 0):\n",
    "        print(\"Origine.\")\n",
    "    elif(a >= 0 and b >= 0):\n",
    "        print(\"First quadrant.\")\n",
    "    elif(a <= 0 and b >= 0):\n",
    "        print(\"Second quadrant.\")\n",
    "    elif(a <= 0 and b <= 0):\n",
    "        print(\"Third quadrant.\")\n",
    "    elif(a >= 0 and b <= 0):\n",
    "        print(\"Fourth quadrant.\")\n",
    "        \n",
    "    if(str(input(\"Continuer [y/n] ? \")) != \"y\"):\n",
    "        break"
   ]
  },
  {
   "cell_type": "markdown",
   "metadata": {},
   "source": [
    "Exercice 14"
   ]
  },
  {
   "cell_type": "code",
   "execution_count": null,
   "metadata": {},
   "outputs": [],
   "source": [
    "while(True):\n",
    "    x = int(input(\"Enter an integer between 0 and 9 : \"))\n",
    "    if(x >= 0 and x <= 9):\n",
    "        while(True):\n",
    "            _max = int(input(\"Enter another integer between 0 and 255 : \"))\n",
    "            if(_max >= 0 and _max <= 255):\n",
    "                if(x == 0):\n",
    "                    print(\"0 has any multiple.\")\n",
    "                else:\n",
    "                    for i in range(0, _max+1, x):\n",
    "                        print(i)\n",
    "                break\n",
    "                        \n",
    "        if(str(input(\"Continuer [y/n] ? \")) != \"y\"):\n",
    "            break"
   ]
  }
 ],
 "metadata": {
  "kernelspec": {
   "display_name": "Python 3 (ipykernel)",
   "language": "python",
   "name": "python3"
  },
  "language_info": {
   "codemirror_mode": {
    "name": "ipython",
    "version": 3
   },
   "file_extension": ".py",
   "mimetype": "text/x-python",
   "name": "python",
   "nbconvert_exporter": "python",
   "pygments_lexer": "ipython3",
   "version": "3.9.12"
  }
 },
 "nbformat": 4,
 "nbformat_minor": 4
}
