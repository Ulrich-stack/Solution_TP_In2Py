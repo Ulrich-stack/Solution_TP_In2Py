{
 "cells": [
  {
   "cell_type": "markdown",
   "metadata": {},
   "source": [
    "Exercice 1"
   ]
  },
  {
   "cell_type": "code",
   "execution_count": null,
   "metadata": {},
   "outputs": [],
   "source": [
    "def fonc(x, y):\n",
    "  \n",
    "    from math import sqrt, sin\n",
    "    if(x != 0 and (1/x + 2*sin(y)) != 0):\n",
    "        return (sqrt(x**(2+y)))/(1/x + 2*sin(y))\n",
    "    else:\n",
    "        return \"Calcul impossible\"\n",
    "\n",
    "x = float(input(\"Entrez une valeur : \"))\n",
    "y = float(input(\"Entrez une nouvelle valeur : \"))\n",
    "\n",
    "print(fonc(x, y))"
   ]
  },
  {
   "cell_type": "markdown",
   "metadata": {},
   "source": [
    "Exercice 2"
   ]
  },
  {
   "cell_type": "code",
   "execution_count": null,
   "metadata": {},
   "outputs": [],
   "source": [
    "def ownpowerfn(b, n):\n",
    " \n",
    "    res = 1\n",
    "    if(n >= 0):\n",
    "        for i in range(0, n):\n",
    "            res *= b\n",
    "        return res"
   ]
  },
  {
   "cell_type": "markdown",
   "metadata": {},
   "source": [
    "Exercice 3"
   ]
  },
  {
   "cell_type": "code",
   "execution_count": null,
   "metadata": {},
   "outputs": [],
   "source": [
    "def arithmetic_mean(a, b):\n",
    "\n",
    "    return (a+b)/2\n",
    "\n",
    "def geometric_mean(a, b):\n",
    "\n",
    "    if(a*b >= 0):\n",
    "        from math import sqrt\n",
    "        return sqrt(a*b)\n",
    "    else:\n",
    "        return \"Invalid input !\""
   ]
  },
  {
   "cell_type": "code",
   "execution_count": null,
   "metadata": {},
   "outputs": [],
   "source": [
    "def celsius_to_fahrenheit(c):\n",
    "  \n",
    "    return (c*9/5)+32\n",
    "\n",
    "def fahrenheit_to_celsius(f):\n",
    "\n",
    "    return ((f-32)*5)/9"
   ]
  },
  {
   "cell_type": "code",
   "execution_count": null,
   "metadata": {},
   "outputs": [],
   "source": [
    "def degrees_to_radians(deg):\n",
    "\n",
    "    from math import pi\n",
    "    return (deg*pi)/180\n",
    "\n",
    "def radians_to_degrees(rad):\n",
    "\n",
    "    from math import pi\n",
    "    return (rad*180)/pi"
   ]
  },
  {
   "cell_type": "code",
   "execution_count": null,
   "metadata": {},
   "outputs": [],
   "source": [
    "def circonference(r):\n",
    "\n",
    "    from math import pi\n",
    "    return 2*pi*r\n",
    "\n",
    "def aire(r):\n",
    "\n",
    "    from math import pi\n",
    "    return pi*r**2"
   ]
  },
  {
   "cell_type": "markdown",
   "metadata": {},
   "source": [
    "Exercice 4"
   ]
  },
  {
   "cell_type": "code",
   "execution_count": null,
   "metadata": {},
   "outputs": [],
   "source": [
    "def average(a, b):\n",
    "\n",
    "    return (a+b)/2\n",
    "\n",
    "def geometric_mean(a, b):\n",
    "\n",
    "    if(a*b >= 0):\n",
    "        from math import sqrt\n",
    "        return sqrt(a*b)\n",
    "    else:\n",
    "        return \"Invalid input !\"\n",
    "\n",
    "print(average(1, 3))\n",
    "print(geometric_mean(1, 3))\n",
    "\n",
    "def avggeom(a, b, n):\n",
    "\n",
    "    if(n > 0):\n",
    "        c = average(a, b)\n",
    "        d = geometric_mean(a, b)\n",
    "        print(c, d, sep=\" - \")\n",
    "        avggeom(c, d, n-1)\n",
    "\n",
    "avggeom(1, 3, 10)"
   ]
  },
  {
   "cell_type": "code",
   "execution_count": null,
   "metadata": {},
   "outputs": [],
   "source": [
    "def distancefn(A, B):\n",
    "\n",
    "    from math import sqrt\n",
    "    return sqrt(abs(A[0]-B[0])**2 + abs(A[1]-B[1])**2)\n",
    "\n",
    "def pa_triangle(A, B, C):\n",
    "\n",
    "    from math import sqrt\n",
    "    a = distancefn(A, B)\n",
    "    b = distancefn(A, C)\n",
    "    c = distancefn(B, C)\n",
    "    print(a, b, c)\n",
    "    perimeter = a + b + c\n",
    "    aire = sqrt(((4*(a**2)*c**2 - (a**2-b**2+c**2)**2)) / 4) / 2\n",
    "    print(\"The perimeter of this triangle equals\", perimeter, \"ul.\")\n",
    "    print(\"The area of this triangle equals\", aire, \"ua.\")\n",
    "\n",
    "pa_triangle((0, 0), (0, 4), (3, 0))"
   ]
  },
  {
   "cell_type": "markdown",
   "metadata": {},
   "source": [
    "Exercice 5"
   ]
  },
  {
   "cell_type": "code",
   "execution_count": null,
   "metadata": {},
   "outputs": [],
   "source": [
    "def factorielle(n):\n",
    "\n",
    "    if('int' not in str(type(n))):\n",
    "        return -1\n",
    "    if(n < 0):\n",
    "        return -1\n",
    "    fact = 1\n",
    "    for i in range(2, n+1):\n",
    "        fact *= i\n",
    "    return fact\n",
    "\n",
    "def second_degree_equation(a, b, c):\n",
    "\n",
    "    delta = (b**2-4*a*c)\n",
    "    if(delta < 0):\n",
    "        print(\"Le trinome admet deux racines complexes.\")\n",
    "    elif(delta == 0):\n",
    "        print(\"Le trinome admet une racine réelle double.\")\n",
    "    else:\n",
    "        print(\"Le trinome admet deux racines réelles distinctes.\")\n",
    "\n",
    "def menu():\n",
    "\n",
    "    print(\"MENU\")\n",
    "    print(\"1- Evaluation of factorial\")\n",
    "    print(\"2- Evaluation of a second degree equation\")\n",
    "    print(\"3- Exit\")\n",
    "    while(True):\n",
    "        a = int(input(\"Select an option : \"))\n",
    "        if(a >= 1 and a <= 3):\n",
    "            return a\n",
    "        else:\n",
    "            print(\"Invalid input ! Please, retry.\")\n",
    "            \n",
    "def fact2nddeg():\n",
    "\n",
    "    while(True):\n",
    "        choice = menu()\n",
    "        if(choice == 3):\n",
    "            print(\"Bye !\")\n",
    "            break\n",
    "        elif(choice == 1):\n",
    "            a = int(input(\"Enter a natural number : \"))\n",
    "            res = factorielle(a)\n",
    "            if(res == -1):\n",
    "                print(\"Invalid input !\")\n",
    "            else:\n",
    "                print(\"{}! = {}\".format(a, res))\n",
    "        else:\n",
    "            a = int(input(\"Enter a first number : \"))\n",
    "            b = int(input(\"Enter a second number : \"))\n",
    "            c = int(input(\"Enter a third number : \"))\n",
    "            second_degree_equation(a, b, c)\n",
    "            \n",
    "fact2nddeg()"
   ]
  },
  {
   "cell_type": "markdown",
   "metadata": {},
   "source": [
    "Exercice 6"
   ]
  },
  {
   "cell_type": "code",
   "execution_count": null,
   "metadata": {},
   "outputs": [],
   "source": [
    "def power(x, n):\n",
    " \n",
    "    if(n == 0):\n",
    "        return 1\n",
    "    else:\n",
    "        return x*(power(x, n-1))"
   ]
  },
  {
   "cell_type": "markdown",
   "metadata": {},
   "source": [
    "Exercice 7"
   ]
  },
  {
   "cell_type": "code",
   "execution_count": null,
   "metadata": {},
   "outputs": [],
   "source": [
    "def fibonacci(n):\n",
    "\n",
    "    if(n == 0 or n == 1):\n",
    "        return n\n",
    "    else:\n",
    "        return fibonacci(n-1) + fibonacci(n-2)\n",
    "\n",
    "fibonacci(100) # Eviter d'exécuter cette ligne à moins de vouloir potentiellement fumer son PC"
   ]
  }
 ],
 "metadata": {
  "kernelspec": {
   "display_name": "Python 3 (ipykernel)",
   "language": "python",
   "name": "python3"
  },
  "language_info": {
   "codemirror_mode": {
    "name": "ipython",
    "version": 3
   },
   "file_extension": ".py",
   "mimetype": "text/x-python",
   "name": "python",
   "nbconvert_exporter": "python",
   "pygments_lexer": "ipython3",
   "version": "3.9.12"
  }
 },
 "nbformat": 4,
 "nbformat_minor": 4
}
