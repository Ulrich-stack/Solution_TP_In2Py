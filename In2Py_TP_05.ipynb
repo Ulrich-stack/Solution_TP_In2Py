{
 "cells": [
  {
   "cell_type": "markdown",
   "id": "9d519509",
   "metadata": {
    "id": "QYZn2ujP9tcA"
   },
   "source": [
    "\n",
    "\n",
    "### <center> <b> <span style=\"color:blue;\"> Travaux Pratiques: Fonctions</span> </b></center>\n",
    "\n"
   ]
  },
  {
   "cell_type": "markdown",
   "id": "26a64eb1",
   "metadata": {
    "id": "iMDzVKcl9tcE"
   },
   "source": [
    "#### **Exercice 00:**  \n",
    "> **Écrire une fonction `cube` qui retourne le cube de son argument.**"
   ]
  },
  {
   "cell_type": "code",
   "execution_count": null,
   "id": "0b5e4c44",
   "metadata": {},
   "outputs": [],
   "source": [
    "def fcube(n):\n",
    "\n",
    "    return n**3"
   ]
  },
  {
   "cell_type": "markdown",
   "id": "70cc3240",
   "metadata": {
    "id": "m1ac89qS9tcH"
   },
   "source": [
    "#### **Exercice 01:**  \n",
    "> **Déclarez une fonction `ajouter_deux_nombres`. Elle prend deux paramètres et renvoie leur somme.**"
   ]
  },
  {
   "cell_type": "code",
   "execution_count": null,
   "id": "b24a8c54",
   "metadata": {
    "id": "E_AgGmNy9tcH"
   },
   "outputs": [],
   "source": [
    "def ajouter_deux_nombres(a, b):\n",
    " \n",
    "    return a+b"
   ]
  },
  {
   "cell_type": "markdown",
   "id": "ed9fa545",
   "metadata": {
    "id": "PKjvAV4y9tcJ"
   },
   "source": [
    "#### **Exercice 02:**  \n",
    "> **L'aire d'un cercle se calcule comme suit : aire = pi x r x r avec pi=3,14. Écrivez une fonction `aire_du_cercle` qui prend le rayon en argument et calcule l'aire du cercle correspodant.**"
   ]
  },
  {
   "cell_type": "code",
   "execution_count": null,
   "id": "9ab5a1c5",
   "metadata": {
    "id": "AxGzHKXX9tcL"
   },
   "outputs": [],
   "source": [
    "def aire_du_cercle(r):\n",
    "\n",
    "    PI = 3.14\n",
    "    return pi*r**2"
   ]
  },
  {
   "cell_type": "markdown",
   "id": "ca19b34b",
   "metadata": {
    "id": "6OBRL3oj9tcL"
   },
   "source": [
    "#### **Exercice 03:**  \n",
    "> **La température en °C peut être convertie en °F à l'aide de cette formule : °F = (°C x 9/5) + 32. Écrivez une fonction `convert_celsius_en_fahrenheit` qui convertit les °C en °F**."
   ]
  },
  {
   "cell_type": "code",
   "execution_count": null,
   "id": "95099f69",
   "metadata": {
    "colab": {
     "base_uri": "https://localhost:8080/"
    },
    "id": "LpDPEBxn9tcN",
    "outputId": "7c62c4a2-828a-4eea-e995-a89e3acda0ed"
   },
   "outputs": [],
   "source": [
    "def convert_celsius_en_fahrenheit(c):\n",
    "\n",
    "    return (c*9/5)+32"
   ]
  },
  {
   "cell_type": "markdown",
   "id": "f92e946d",
   "metadata": {
    "id": "rJRPsZ2h9tcP"
   },
   "source": [
    "#### **Exercice 04:** \n",
    ">**Écrire une fonction somme avec un argument « tuple de longueur variable » qui calcule la somme des nombres contenus dans le tuple.Tester cette fonction par des appels avec différents tuples d’entiers ou de flottants.**"
   ]
  },
  {
   "cell_type": "code",
   "execution_count": null,
   "id": "4b311573",
   "metadata": {
    "colab": {
     "base_uri": "https://localhost:8080/"
    },
    "id": "7qn8Czdc9tcP",
    "outputId": "998d9d34-3e4c-4a64-f02e-9faa0ff36abe"
   },
   "outputs": [],
   "source": [
    "def somme(*arg):\n",
    "\n",
    "    s = 0\n",
    "    for val in arg:\n",
    "        s += val\n",
    "    return s"
   ]
  },
  {
   "cell_type": "markdown",
   "id": "43cf481c",
   "metadata": {
    "id": "kls1kYNh9tcR"
   },
   "source": [
    "#### **Exercice 05:** \n",
    ">**Ecrire `somme_liste` qui calcule la somme des nombres contenus dans une liste.Tester cette fonction par des appels avec différents listes d’entiers ou de flottants.**"
   ]
  },
  {
   "cell_type": "code",
   "execution_count": null,
   "id": "662f5988",
   "metadata": {},
   "outputs": [],
   "source": [
    "def somme_liste(arg):\n",
    "\n",
    "    s = 0\n",
    "    for val in arg:\n",
    "        s += val\n",
    "    return s"
   ]
  },
  {
   "cell_type": "markdown",
   "id": "a2212fcb",
   "metadata": {
    "id": "l4gQECfk9tcS"
   },
   "source": [
    "#### **Exercice 06:** \n",
    ">**Écrire une fonction somme qui  prend en argument un entier $n$ et retourne la somme  des $n$-prémiers entiers naturels.**"
   ]
  },
  {
   "cell_type": "code",
   "execution_count": null,
   "id": "f172fabd",
   "metadata": {},
   "outputs": [],
   "source": [
    "def somme(n):\n",
    "\n",
    "    if(n <= 0):\n",
    "        return -1\n",
    "    else:\n",
    "        return ((n-1)*n)//2"
   ]
  },
  {
   "cell_type": "markdown",
   "id": "34217dab",
   "metadata": {
    "id": "tK9EsjZf9tcU"
   },
   "source": [
    "#### **Exercice 07:** \n",
    ">**Écrire une fonction `nom` qui demande à l'utilisateur d'entrer son nom ensuite son prénom et affiche son prénom suivit de son nom.**"
   ]
  },
  {
   "cell_type": "code",
   "execution_count": null,
   "id": "bfd51600",
   "metadata": {},
   "outputs": [],
   "source": [
    "def nom():\n",
    "\n",
    "    a = input(\"Entrez votre nom : \")\n",
    "    b = input(\"Entrez votre prénom : \")\n",
    "    print(b + ' ' + a)"
   ]
  },
  {
   "cell_type": "markdown",
   "id": "a0d7b520",
   "metadata": {
    "id": "YSwrwcEz9tcX"
   },
   "source": [
    "#### **Exercice 08:** \n",
    ">**Écrire une fonction `nom` qui demande à l'utilisateur d'entrer son nom ensuite son prénom et affiche son prénom suivit de son nom.**"
   ]
  },
  {
   "cell_type": "code",
   "execution_count": null,
   "id": "0f37df65",
   "metadata": {
    "id": "mRk-8h1P9tcZ"
   },
   "outputs": [],
   "source": [
    "def nom():\n",
    "\n",
    "    a = input(\"Entrez votre nom : \")\n",
    "    b = input(\"Entrez votre prénom : \")\n",
    "    print(b + ' ' + a)"
   ]
  },
  {
   "cell_type": "markdown",
   "id": "a00fc2d5",
   "metadata": {
    "id": "VYtzHXAd9tck"
   },
   "source": [
    "#### **Exercice 09:** \n",
    ">**Ecris une fonction `Maximum` qui renvoie le minimum de trois nombres.**"
   ]
  },
  {
   "cell_type": "code",
   "execution_count": null,
   "id": "823c512a",
   "metadata": {},
   "outputs": [],
   "source": [
    "def Maximum(a, b, c):\n",
    "\n",
    "    return max((a, b, c))"
   ]
  },
  {
   "cell_type": "markdown",
   "id": "d2639944",
   "metadata": {
    "id": "gTpTAnGm9tcm"
   },
   "source": [
    "#### **Exercice 10:**\n",
    ">**Soit $f(x)=ax^2+bx+c$ un trinôme du second degré.**\n",
    " 1. **Ecris une fonction `Discriminant` qui calcule son discriminant.**\n",
    " 2. **Ecris ensuite une fonction `existence_des_racines_du_trinome` qui discute suivant les valeurs du discriminant, l'existence de ses racines.** \n"
   ]
  },
  {
   "cell_type": "code",
   "execution_count": null,
   "id": "3b6ce826",
   "metadata": {},
   "outputs": [],
   "source": [
    "def Discriminant(a, b, c):\n",
    "\n",
    "    return (b**2-4*a*c)\n",
    "\n",
    "def existence_des_racines_du_trinome(a, b, c):\n",
    "\n",
    "    delta = Discriminant(a, b, c)\n",
    "    if(delta < 0):\n",
    "        print(\"Le trinome admet deux racines complexes.\")\n",
    "    elif(delta == 0):\n",
    "        print(\"Le trinome admet une racine réelle double.\")\n",
    "    else:\n",
    "        print(\"Le trinome admet deux racines réelles distinctes.\")"
   ]
  },
  {
   "cell_type": "markdown",
   "id": "962c8938",
   "metadata": {
    "id": "WgJ06GHA9tcn"
   },
   "source": [
    "#### **Exercice 11:**\n",
    ">**Ecris une fonction qui affiche le reste de la division euclidienne d'un entier naturel $a$ par un entier naturel $b$**.\n"
   ]
  },
  {
   "cell_type": "code",
   "execution_count": null,
   "id": "137052e8",
   "metadata": {},
   "outputs": [],
   "source": [
    "def reste(a, b):\n",
    "\n",
    "    if(b != 0):\n",
    "        print(\"Le reste de la division euclidienne de\", a, \"par\", b, \"est :\", a%b)\n",
    "    else:\n",
    "        print(\"Invalid input !\")"
   ]
  },
  {
   "cell_type": "markdown",
   "id": "e06eaa01",
   "metadata": {
    "id": "dtC_cOVJ9tco"
   },
   "source": [
    "#### **Exercice 12:**\n",
    ">**Ecris une fonction `terme_suite_geometrique` qui affiche le n-ième terme d'une suite géométrique $(v_n)$ de premier terme $v_0$ et de raison $q$. Teste ce programme pour $v_0=2, q=3$ et $n=4$.**"
   ]
  },
  {
   "cell_type": "code",
   "execution_count": null,
   "id": "53b1c404",
   "metadata": {
    "id": "TeLDRV8N9tco"
   },
   "outputs": [],
   "source": [
    "def terme_suite_geometrique(v0, q, n):\n",
    "\n",
    "    if(n <= 0):\n",
    "        print(\"Invalid input !\")\n",
    "    else:\n",
    "        return v0 * q**(n-1)\n",
    "\n",
    "print(terme_suite_geometrique(2, 3, 4))"
   ]
  },
  {
   "cell_type": "markdown",
   "id": "ae2dc1a3",
   "metadata": {
    "id": "GrmGuHwu9tco"
   },
   "source": [
    "#### **Exercice 13:**\n",
    ">**Écris une fonction `merci` prend en paramètre un `nom` et renvoie le message \"Merci pour votre présence à cet atelier,`nom`.**\n"
   ]
  },
  {
   "cell_type": "code",
   "execution_count": null,
   "id": "9f52cee6",
   "metadata": {},
   "outputs": [],
   "source": [
    "def merci(nom):\n",
    "\n",
    "    return \"Merci pour votre présence à cet atelier, \" + nom"
   ]
  },
  {
   "cell_type": "markdown",
   "id": "9080257c",
   "metadata": {
    "id": "T3jopRLc9tco"
   },
   "source": [
    "#### **Exercice 14:**\n",
    ">**Écris une fonction `ma_suite` qui définit la suite $(u_n)$ telle que  $$u_{n}=\\frac{2n^2+3n-1}{n+6}.$$\n",
    "Affiche son 5e terme.**\n"
   ]
  },
  {
   "cell_type": "code",
   "execution_count": null,
   "id": "ed05497c",
   "metadata": {},
   "outputs": [],
   "source": [
    "def ma_suite(n):\n",
    "\n",
    "    if(n >= 0):\n",
    "        return (2*n**2+3*n-1)/(n+6)\n",
    "\n",
    "print(ma_suite(4))"
   ]
  },
  {
   "cell_type": "markdown",
   "id": "82d72d41",
   "metadata": {
    "id": "SIizzU_A9tcp"
   },
   "source": [
    "\n",
    "\n",
    "<center> <b> <span style=\"color:orange;\"> 🎉 FÉLICITATIONS ! 🎉 </span> </b></center>"
   ]
  }
 ],
 "metadata": {
  "colab": {
   "collapsed_sections": [],
   "name": "In2Py_TP_05.ipynb",
   "provenance": []
  },
  "kernelspec": {
   "display_name": "Python 3 (ipykernel)",
   "language": "python",
   "name": "python3"
  },
  "language_info": {
   "codemirror_mode": {
    "name": "ipython",
    "version": 3
   },
   "file_extension": ".py",
   "mimetype": "text/x-python",
   "name": "python",
   "nbconvert_exporter": "python",
   "pygments_lexer": "ipython3",
   "version": "3.9.12"
  }
 },
 "nbformat": 4,
 "nbformat_minor": 5
}
