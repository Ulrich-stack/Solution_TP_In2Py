{
 "cells": [
  {
   "cell_type": "markdown",
   "id": "22f02e1a",
   "metadata": {
    "id": "22f02e1a"
   },
   "source": [
    "\n",
    "### <center> <b> <span style=\"color:blue;\"> Travaux Pratiques: Variables, Types & Opérations </span> </b></center>"
   ]
  },
  {
   "cell_type": "markdown",
   "id": "ddc667e7",
   "metadata": {
    "id": "ddc667e7"
   },
   "source": [
    "**Exercise 00:**  \n",
    ">\n",
    "\n",
    "  \n",
    "> 1. Déclarez une variable `prenom` et attribuez-lui une valeur.\n",
    "  > 2. Déclarez une variable `nom` et attribuez-lui une valeur.\n",
    "  > 3. Déclarez une variable `prenom_nom` et attribuez-lui une valeur.\n",
    "  > 4. Déclarez une variable `pays` et attribuez-lui une valeur.\n",
    "  > 5. Déclarez une variable `ville` et attribuez-lui une valeur.\n",
    "  > 6. Déclarez une variable `age` et attribuez-lui une valeur.\n",
    "  > 7. Déclarez une variable `annee` et attribuez-lui une valeur.\n",
    "  > 8. Déclarez une variable `est_marie` et attribuez-lui une valeur.\n",
    "  > 9. Déclarez une variable `est_vrai` et attribuez-lui une valeur.\n",
    "\n",
    "> Pour chacune des variables ci-dessus, affichez la valeur qu'elle contient à l'aide de la fonction `print()`.\n",
    "\n"
   ]
  },
  {
   "cell_type": "code",
   "execution_count": 6,
   "id": "ebd3951d",
   "metadata": {
    "id": "ebd3951d"
   },
   "outputs": [
    {
     "name": "stdout",
     "output_type": "stream",
     "text": [
      "Ulrich\n",
      "COCOSSOU\n",
      "UlrichCOCOSSOU\n",
      "Benin\n",
      "calavi\n",
      "21\n",
      "2022\n",
      "est marie: vrai\n",
      "Est vrai: non\n"
     ]
    }
   ],
   "source": [
    "prenom='Ulrich'\n",
    "print(prenom)\n",
    "\n",
    "nom='COCOSSOU'\n",
    "print(nom)\n",
    "\n",
    "nom_prenom='UlrichCOCOSSOU'\n",
    "print(nom_prenom)\n",
    "\n",
    "pays='Benin'\n",
    "print(pays)\n",
    "\n",
    "ville='calavi'\n",
    "print(ville)\n",
    "\n",
    "age=21\n",
    "print(age)\n",
    "\n",
    "annee=2022\n",
    "print(annee)\n",
    "\n",
    "est_marie='vrai'\n",
    "print(\"est marie: \" +est_marie)\n",
    "\n",
    "est_vrai='non'\n",
    "print(\"Est vrai: \" +est_vrai)\n"
   ]
  },
  {
   "cell_type": "markdown",
   "id": "85eb4f96",
   "metadata": {
    "id": "85eb4f96"
   },
   "source": [
    "**Exercise 01:** \n",
    "> Vérifiez le type de données de toutes vos variables à l'aide de la fonction intégrée `type()`.**\n"
   ]
  },
  {
   "cell_type": "code",
   "execution_count": 18,
   "id": "c5c47124",
   "metadata": {
    "id": "c5c47124",
    "scrolled": true
   },
   "outputs": [
    {
     "data": {
      "text/plain": [
       "str"
      ]
     },
     "execution_count": 18,
     "metadata": {},
     "output_type": "execute_result"
    }
   ],
   "source": [
    "type(prenom)\n",
    "type(nom)\n",
    "type(nom_prenom)\n",
    "type(ville)\n",
    "type(age)\n",
    "type (annee)\n",
    "type(est_marie)\n",
    "type(est_vrai)\n"
   ]
  },
  {
   "cell_type": "markdown",
   "id": "76cdc19b",
   "metadata": {
    "id": "76cdc19b"
   },
   "source": [
    "**Exercise 02:** \n",
    "> Calculez la valeur de $y$ ($y = x^2 + 6x + 9$). Essayez d'utiliser différentes valeurs de $x$ et déterminez à quelle valeur de $x$ $y$ sera égal à 0.**"
   ]
  },
  {
   "cell_type": "code",
   "execution_count": 26,
   "id": "fb4df11a",
   "metadata": {
    "id": "fb4df11a"
   },
   "outputs": [
    {
     "name": "stdout",
     "output_type": "stream",
     "text": [
      "La valeur de y pour  -3  est  0\n",
      "La valeur de y pour  -2  est  1\n",
      "La valeur de y pour  -1  est  4\n",
      "La valeur de y pour  0  est  9\n",
      "La valeur de y pour  1  est  16\n",
      "\n",
      "La valeur de y est 0 pour x=-3\n"
     ]
    }
   ],
   "source": [
    "i=-3\n",
    "while i<2:\n",
    "    print(\"La valeur de y pour \" ,i, \" est \" ,(i*i+6*i+9))\n",
    "    i+=1\n",
    "\n",
    "print(\"\\nLa valeur de y est 0 pour x=-3\")"
   ]
  },
  {
   "cell_type": "code",
   "execution_count": 17,
   "id": "faddc918",
   "metadata": {
    "id": "8f40e3ab"
   },
   "outputs": [
    {
     "ename": "SyntaxError",
     "evalue": "invalid syntax (2799349291.py, line 1)",
     "output_type": "error",
     "traceback": [
      "\u001b[1;36m  Input \u001b[1;32mIn [17]\u001b[1;36m\u001b[0m\n\u001b[1;33m    **Exercise 03:**\u001b[0m\n\u001b[1;37m    ^\u001b[0m\n\u001b[1;31mSyntaxError\u001b[0m\u001b[1;31m:\u001b[0m invalid syntax\n"
     ]
    }
   ],
   "source": [
    "**Exercise 03:** \n",
    ">    \n",
    "\n",
    "     1. Déclarez votre âge sous forme de variable entière\n",
    "     2. Déclarez votre taille en tant que variable flottante\n",
    "     3. Déclarez une variable qui stocke la base et la hauteur d'un triangle. Calculez l'aire de ce triangle (aire = 0,5 x b x h)."
   ]
  },
  {
   "cell_type": "code",
   "execution_count": 24,
   "id": "rpAlhgG_9A5z",
   "metadata": {
    "id": "rpAlhgG_9A5z"
   },
   "outputs": [
    {
     "name": "stdout",
     "output_type": "stream",
     "text": [
      "L'aire du triangle est  15.0\n"
     ]
    }
   ],
   "source": [
    "age=21\n",
    "taille=1.85\n",
    "b=5\n",
    "h=6\n",
    "aire=0.5*b*h\n",
    "\n",
    "print(\"L'aire du triangle est \" ,aire)"
   ]
  },
  {
   "cell_type": "markdown",
   "id": "9957391d",
   "metadata": {
    "id": "9957391d"
   },
   "source": [
    "## *Astuce : recevoir les entrées de l'utilisateur *\n",
    "**Pour recevoir une entrée de l'utilisateur, nous utilisons `input()`.**.\n",
    "\n",
    "**Exemple**\n",
    "Recevez deux nombres en entrée de l'utilisateur et calculez leur puissance :\n",
    "```python\n",
    "base = input(\"Entrez une base : \")\n",
    "exposant = input(\"Entrez un exposant : \")\n",
    "resultat = float(base) ** float(exposant)\n",
    "print(f \"{base} à la puissance {exposant} = {résultat}\")\n",
    "```"
   ]
  },
  {
   "cell_type": "markdown",
   "id": "0fb34716",
   "metadata": {
    "id": "0fb34716"
   },
   "source": [
    "**Exercise 04:** \n",
    "> **Write a small code that asks the user to enter the side $a$, the side $b$ and the side $c$ of a triangle. Calculate the perimeter of the triangle (perimeter = a + b + c).**"
   ]
  },
  {
   "cell_type": "code",
   "execution_count": 32,
   "id": "6618f067",
   "metadata": {
    "id": "6618f067"
   },
   "outputs": [
    {
     "name": "stdout",
     "output_type": "stream",
     "text": [
      "Pour le triangle entrez: \n",
      "Premier coté: 8\n",
      "Deuxieme coté: 6\n",
      "Troisieme coté: 4\n",
      "Le périmetre de ce triangle est  18\n"
     ]
    }
   ],
   "source": [
    "print(\"Pour le triangle entrez: \")\n",
    "a=input(\"Premier coté: \")\n",
    "b=input(\"Deuxieme coté: \")\n",
    "c=input(\"Troisieme coté: \")\n",
    "perimeter=int(a)+ int(b)+ int(c)\n",
    "print(\"Le périmetre de ce triangle est \", perimeter)"
   ]
  },
  {
   "cell_type": "markdown",
   "id": "e482c15c",
   "metadata": {
    "id": "e482c15c"
   },
   "source": [
    "**Exercise 05:** \n",
    "> **Obtenez la longueur et la largeur d'un rectangle à l'aide de l'invite. Calculer sa `superficie` et son `perimetre`.**"
   ]
  },
  {
   "cell_type": "code",
   "execution_count": 33,
   "id": "286cec4c",
   "metadata": {
    "id": "286cec4c"
   },
   "outputs": [
    {
     "name": "stdout",
     "output_type": "stream",
     "text": [
      "Pour le rectangle entrez: \n",
      "Longueur: 10\n",
      "Largeur: 5\n",
      "Le périmetre de ce rectangle est  15 et son aire 50\n"
     ]
    }
   ],
   "source": [
    "print(\"Pour le rectangle entrez: \")\n",
    "longueur=input(\"Longueur: \")\n",
    "largeur=input(\"Largeur: \")\n",
    "\n",
    "perimeter=int(longueur)+ int(largeur)\n",
    "aire=int(longueur)*int(largeur)\n",
    "print(\"Le périmetre de ce rectangle est \", perimeter, \"et son aire\" , aire )"
   ]
  },
  {
   "cell_type": "markdown",
   "id": "cf15844c",
   "metadata": {
    "id": "cf15844c"
   },
   "source": [
    "**Exercice 06:** \n",
    "> **Obtenez le rayon d'un cercle en utilisant l'invite. Calculez l'aire (aire = pi x r x r) et la circonférence (c = 2 x pi x r) où pi = 3,14.**"
   ]
  },
  {
   "cell_type": "code",
   "execution_count": 34,
   "id": "ee0ee85e",
   "metadata": {
    "id": "ee0ee85e"
   },
   "outputs": [
    {
     "name": "stdout",
     "output_type": "stream",
     "text": [
      "Donnez le rayon du cercle6\n",
      "L'aire de ce cercle est  113.03999999999999  et sa circonférence est  37.68\n"
     ]
    }
   ],
   "source": [
    "rayon=input(\"Donnez le rayon du cercle\")\n",
    "\n",
    "aire=float(3.14)*float(rayon)*float(rayon)\n",
    "circonference=2*float(3.14)*float(rayon)\n",
    "\n",
    "print(\"L'aire de ce cercle est \",aire, \" et sa circonférence est \" , circonference)"
   ]
  },
  {
   "cell_type": "markdown",
   "id": "d9dec37a",
   "metadata": {
    "id": "d9dec37a"
   },
   "source": [
    "**Exercice 07:**\n",
    "> **Calculez la pente, l'ordonnée à l'origine en x et l'ordonnée à l'origine en $y$ de $y = 2x -2$.**"
   ]
  },
  {
   "cell_type": "code",
   "execution_count": 35,
   "id": "203e449c",
   "metadata": {
    "id": "203e449c"
   },
   "outputs": [
    {
     "name": "stdout",
     "output_type": "stream",
     "text": [
      "La pente de y est  2.0\n"
     ]
    }
   ],
   "source": [
    "pente=(-2-0)/(0-1)\n",
    "\n",
    "print(\"La pente de y est \" , pente)"
   ]
  },
  {
   "cell_type": "markdown",
   "id": "2f74d685",
   "metadata": {
    "id": "2f74d685"
   },
   "source": [
    "**Exercice 08:** \n",
    "> **Rédigez un script qui demande à l'utilisateur d'entrer les heures et le taux horaire. Calculez la rémunération de la personne ?**"
   ]
  },
  {
   "cell_type": "code",
   "execution_count": 36,
   "id": "7cff5a0a",
   "metadata": {
    "id": "7cff5a0a"
   },
   "outputs": [
    {
     "name": "stdout",
     "output_type": "stream",
     "text": [
      "Entrez le taux horaire15\n",
      "Entrez les heures maintenant58\n",
      "Votre rénumération est  870.0\n"
     ]
    }
   ],
   "source": [
    "taux=input(\"Entrez le taux horaire: \")\n",
    "heures=input(\"Entrez les heures maintenant: \")\n",
    "\n",
    "print(\"Votre rénumération est \", float(taux)*float(heures))"
   ]
  },
  {
   "cell_type": "markdown",
   "id": "6ddd662c",
   "metadata": {
    "id": "6ddd662c"
   },
   "source": [
    "**Exercice 09:** \n",
    "> **Écrivez un script qui demande à l'utilisateur d'entrer le nombre d'années. Calculez le nombre de secondes qu'une personne peut vivre. Supposons qu'une personne puisse vivre cent ans.**"
   ]
  },
  {
   "cell_type": "code",
   "execution_count": 3,
   "id": "44c2a63c",
   "metadata": {
    "id": "44c2a63c"
   },
   "outputs": [
    {
     "name": "stdout",
     "output_type": "stream",
     "text": [
      "Entrez le nombre d'années: 14\n"
     ]
    },
    {
     "ename": "TypeError",
     "evalue": "can't multiply sequence by non-int of type 'float'",
     "output_type": "error",
     "traceback": [
      "\u001b[1;31m---------------------------------------------------------------------------\u001b[0m",
      "\u001b[1;31mTypeError\u001b[0m                                 Traceback (most recent call last)",
      "Input \u001b[1;32mIn [3]\u001b[0m, in \u001b[0;36m<cell line: 2>\u001b[1;34m()\u001b[0m\n\u001b[0;32m      1\u001b[0m nombre\u001b[38;5;241m=\u001b[39m\u001b[38;5;28minput\u001b[39m(\u001b[38;5;124m\"\u001b[39m\u001b[38;5;124mEntrez le nombre d\u001b[39m\u001b[38;5;124m'\u001b[39m\u001b[38;5;124mannées: \u001b[39m\u001b[38;5;124m\"\u001b[39m)\n\u001b[1;32m----> 2\u001b[0m \u001b[38;5;28mprint\u001b[39m(\u001b[38;5;124m\"\u001b[39m\u001b[38;5;124mVous pouvez vivre en fonction de ce nombre \u001b[39m\u001b[38;5;124m\"\u001b[39m, \u001b[38;5;28;43mfloat\u001b[39;49m\u001b[43m(\u001b[49m\u001b[38;5;241;43m31536000\u001b[39;49m\u001b[43m)\u001b[49m\u001b[38;5;241;43m*\u001b[39;49m\u001b[43mnombre\u001b[49m, \u001b[38;5;124m\"\u001b[39m\u001b[38;5;124msecondes\u001b[39m\u001b[38;5;124m\"\u001b[39m)\n",
      "\u001b[1;31mTypeError\u001b[0m: can't multiply sequence by non-int of type 'float'"
     ]
    }
   ],
   "source": [
    "nombre=input(\"Entrez le nombre d'années: \")\n",
    "print(\"Vous pouvez vivre en fonction de ce nombre \", 31536000*nombre, \"secondes\")"
   ]
  },
  {
   "cell_type": "markdown",
   "id": "9b253387",
   "metadata": {
    "id": "9b253387"
   },
   "source": [
    "**Exercice 10:** \n",
    "> **Écrivez un script Python qui affiche le tableau suivant**\n",
    "\n",
    "    1 1 1 1 1\n",
    "    \n",
    "    2 1 2 4 8\n",
    "    \n",
    "    3 1 3 9 27\n",
    "    \n",
    "    4 1 4 16 64\n",
    "    \n",
    "    5 1 5 25 125"
   ]
  },
  {
   "cell_type": "code",
   "execution_count": 5,
   "id": "aa2dae84",
   "metadata": {
    "id": "aa2dae84"
   },
   "outputs": [
    {
     "name": "stdout",
     "output_type": "stream",
     "text": [
      "[1, 1, 1, 1, 1]\n",
      "[2, 1, 2, 4, 8]\n",
      "[3, 1, 3, 9, 27]\n",
      "[4, 1, 4, 16, 64]\n",
      "[5, 1, 5, 25, 125]\n"
     ]
    }
   ],
   "source": [
    "list_a=[1, 1, 1, 1, 1]\n",
    "list_b=[2, 1, 2, 4, 8]\n",
    "list_c=[3, 1, 3, 9, 27]\n",
    "list_d=[4, 1, 4, 16, 64]\n",
    "list_e=[5, 1, 5, 25, 125]\n",
    "\n",
    "print(list_a)\n",
    "print(list_b)\n",
    "print(list_c)\n",
    "print(list_d)\n",
    "print(list_e)\n"
   ]
  },
  {
   "cell_type": "markdown",
   "id": "953e7d8c",
   "metadata": {
    "id": "953e7d8c"
   },
   "source": [
    "**Exercise 11:** \n",
    ">**Attribuez aux variables `temps` et `distance` les valeurs $6.892$ et $19.7$. Calculer et afficher la valeur de la vitesse. Améliorer l'affichage en imposant un chiffre après la virgule.**"
   ]
  },
  {
   "cell_type": "code",
   "execution_count": 6,
   "id": "6d787289",
   "metadata": {
    "id": "6d787289"
   },
   "outputs": [
    {
     "name": "stdout",
     "output_type": "stream",
     "text": [
      "La vitesse est  2.9\n"
     ]
    }
   ],
   "source": [
    "temps=6.892\n",
    "distance=19.7\n",
    "\n",
    "vitesse=19.7/6.892\n",
    "\n",
    "print(\"La vitesse est \", round(vitesse, 1))"
   ]
  },
  {
   "cell_type": "markdown",
   "id": "2d0f1ff9",
   "metadata": {
    "id": "2d0f1ff9"
   },
   "source": [
    "**Exercice 12:** \n",
    "> **Écrire un programme qui, à partir de la saisie d’un rayon et d’une hauteur, calcule levolume d’un cône droit.**"
   ]
  },
  {
   "cell_type": "code",
   "execution_count": 9,
   "id": "969f5f68",
   "metadata": {
    "id": "969f5f68"
   },
   "outputs": [
    {
     "name": "stdout",
     "output_type": "stream",
     "text": [
      "Entrez le rayon: 14\n",
      "Entrez une hauteur: 5\n",
      "Le volume de ce cone droit est  1025.7333333333331\n"
     ]
    }
   ],
   "source": [
    "rayon=input(\"Entrez le rayon: \")\n",
    "hauteur=input(\"Entrez une hauteur: \")\n",
    "\n",
    "volume=(1/3)*3.14*float(rayon)*float(rayon)*float(hauteur)\n",
    "\n",
    "print(\"Le volume de ce cone droit est \", volume)"
   ]
  },
  {
   "cell_type": "markdown",
   "id": "e9b3ce2a",
   "metadata": {
    "id": "e9b3ce2a"
   },
   "source": [
    "**Exercise 13:** \n",
    "> **L'utilisateur donne un entier positif et le programme annonce combien de fois de suite cet entier est divisible par 2.**"
   ]
  },
  {
   "cell_type": "code",
   "execution_count": 4,
   "id": "5c8fea9a",
   "metadata": {
    "id": "5c8fea9a"
   },
   "outputs": [
    {
     "name": "stdout",
     "output_type": "stream",
     "text": [
      "Entrez un entier positif12\n"
     ]
    },
    {
     "ename": "TypeError",
     "evalue": "not all arguments converted during string formatting",
     "output_type": "error",
     "traceback": [
      "\u001b[1;31m---------------------------------------------------------------------------\u001b[0m",
      "\u001b[1;31mTypeError\u001b[0m                                 Traceback (most recent call last)",
      "Input \u001b[1;32mIn [4]\u001b[0m, in \u001b[0;36m<cell line: 4>\u001b[1;34m()\u001b[0m\n\u001b[0;32m      1\u001b[0m entier\u001b[38;5;241m=\u001b[39m\u001b[38;5;28minput\u001b[39m(\u001b[38;5;124m\"\u001b[39m\u001b[38;5;124mEntrez un entier positif\u001b[39m\u001b[38;5;124m\"\u001b[39m)\n\u001b[0;32m      3\u001b[0m comp\u001b[38;5;241m=\u001b[39m\u001b[38;5;241m0\u001b[39m\n\u001b[1;32m----> 4\u001b[0m \u001b[38;5;28;01mwhile\u001b[39;00m \u001b[43mentier\u001b[49m\u001b[38;5;241;43m%\u001b[39;49m\u001b[38;5;241;43m2\u001b[39;49m\u001b[38;5;241m==\u001b[39m\u001b[38;5;241m0\u001b[39m:\n\u001b[0;32m      5\u001b[0m     comp\u001b[38;5;241m+\u001b[39m\u001b[38;5;241m=\u001b[39m\u001b[38;5;241m1\u001b[39m\n\u001b[0;32m      6\u001b[0m     entier\u001b[38;5;241m/\u001b[39m\u001b[38;5;241m=\u001b[39m\u001b[38;5;241m2\u001b[39m\n",
      "\u001b[1;31mTypeError\u001b[0m: not all arguments converted during string formatting"
     ]
    }
   ],
   "source": [
    "entier=input(\"Entrez un entier positif\")\n",
    "\n",
    "comp=0\n",
    "while entier%2==0:\n",
    "    comp+=1\n",
    "    entier/=2\n",
    "    \n",
    "\n",
    "print(\"Votre entier est divisible par 2 \" ,comp,\"fois \")"
   ]
  },
  {
   "cell_type": "markdown",
   "id": "0485aed6",
   "metadata": {
    "id": "0485aed6"
   },
   "source": [
    "**Exercise 14:** \n",
    ">**L'utilisateur donne un nombre entier entre 2 et 12, le programme donne le nombre de façons de le faire en lançant deux dés.**"
   ]
  },
  {
   "cell_type": "code",
   "execution_count": null,
   "id": "31f48a15",
   "metadata": {
    "id": "31f48a15"
   },
   "outputs": [],
   "source": [
    "nombre=input(\"Entrez un nombre entre 2 et 12\")\n",
    "\n",
    "i=1\n",
    "j=1\n",
    "\n",
    "while i<nombre-1:\n",
    "    while j<\n",
    "    "
   ]
  },
  {
   "cell_type": "markdown",
   "id": "cead0c8f",
   "metadata": {
    "id": "cead0c8f"
   },
   "source": [
    "**Exercice 15:** \n",
    "> **Utilisez la fonction d'entrée intégrée `input()` pour obtenir le `_prénom_`, le `_nom_`, le `_pays_d_origine` et l'`_age_` d'un utilisateur et stockez la valeur dans les noms des variables correspondantes.**"
   ]
  },
  {
   "cell_type": "code",
   "execution_count": null,
   "id": "0a2694a9",
   "metadata": {
    "id": "0a2694a9"
   },
   "outputs": [],
   "source": []
  },
  {
   "cell_type": "markdown",
   "id": "33240a56",
   "metadata": {
    "id": "33240a56"
   },
   "source": [
    "**Exercice 16:** \n",
    "\n",
    "**Déclarer $5$ comme `num_one` et $4$ comme `num_two`**\n",
    "\n",
    "   1. Additionner `num_one` et `num_two` et affecter la valeur à une variable `totale`.\n",
    "   2. Soustraire `num_two` de `num_one` et affecter la valeur à une variable `diff`.\n",
    "   3. Multipliez le `num_one` et le `num_two` et attribuez la valeur à une variable `produit`.\n",
    "   4. Divisez le `num_one` par le `num_two` et attribuez la valeur à une variable `division`.\n",
    "   5. Calculez `num_one` à la puissance de `num_two` et attribuez la valeur à une variable `exp`."
   ]
  },
  {
   "cell_type": "code",
   "execution_count": null,
   "id": "c2f3e814",
   "metadata": {
    "id": "c2f3e814"
   },
   "outputs": [],
   "source": []
  },
  {
   "cell_type": "markdown",
   "id": "80763237",
   "metadata": {
    "id": "80763237"
   },
   "source": [
    "<center> <b> <span style=\"color:orange;\"> 🎉 FÉLICITATIONS! 🎉 </span> </b></center>"
   ]
  }
 ],
 "metadata": {
  "colab": {
   "collapsed_sections": [],
   "name": "In2Py_TP_01.ipynb",
   "provenance": []
  },
  "kernelspec": {
   "display_name": "Python 3 (ipykernel)",
   "language": "python",
   "name": "python3"
  },
  "language_info": {
   "codemirror_mode": {
    "name": "ipython",
    "version": 3
   },
   "file_extension": ".py",
   "mimetype": "text/x-python",
   "name": "python",
   "nbconvert_exporter": "python",
   "pygments_lexer": "ipython3",
   "version": "3.9.12"
  }
 },
 "nbformat": 4,
 "nbformat_minor": 5
}
