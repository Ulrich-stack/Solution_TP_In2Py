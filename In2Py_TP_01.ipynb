{
 "cells": [
  {
   "cell_type": "markdown",
   "id": "370cb0f2",
   "metadata": {
    "id": "22f02e1a"
   },
   "source": [
    "\n",
    "### <center> <b> <span style=\"color:blue;\"> Travaux Pratiques: Variables, Types & Opérations </span> </b></center>"
   ]
  },
  {
   "cell_type": "markdown",
   "id": "6dd1c8c1",
   "metadata": {
    "id": "ddc667e7"
   },
   "source": [
    "**Exercise 00:**  \n",
    ">\n",
    "\n",
    "  \n",
    "> 1. Déclarez une variable `prenom` et attribuez-lui une valeur.\n",
    "  > 2. Déclarez une variable `nom` et attribuez-lui une valeur.\n",
    "  > 3. Déclarez une variable `prenom_nom` et attribuez-lui une valeur.\n",
    "  > 4. Déclarez une variable `pays` et attribuez-lui une valeur.\n",
    "  > 5. Déclarez une variable `ville` et attribuez-lui une valeur.\n",
    "  > 6. Déclarez une variable `age` et attribuez-lui une valeur.\n",
    "  > 7. Déclarez une variable `annee` et attribuez-lui une valeur.\n",
    "  > 8. Déclarez une variable `est_marie` et attribuez-lui une valeur.\n",
    "  > 9. Déclarez une variable `est_vrai` et attribuez-lui une valeur.\n",
    "\n",
    "> Pour chacune des variables ci-dessus, affichez la valeur qu'elle contient à l'aide de la fonction `print()`.\n",
    "\n"
   ]
  },
  {
   "cell_type": "code",
   "execution_count": null,
   "id": "e24a2eb7",
   "metadata": {
    "id": "ebd3951d"
   },
   "outputs": [],
   "source": [
    "prenom = \"Ulrich\"\n",
    "nom = \"COCOSSOU\"\n",
    "prenom_nom = \"Ulrich COCOSSOU\"\n",
    "pays = \"Bénin\"\n",
    "ville = \"Calavi\"\n",
    "age = 21\n",
    "annee = 2000\n",
    "est_marie = False\n",
    "est_vrai = True\n",
    "\n",
    "print(prenom)\n",
    "print(nom)\n",
    "print(prenom_nom)\n",
    "print(pays)\n",
    "print(ville)\n",
    "print(age)\n",
    "print(annee)\n",
    "print(est_marie)\n",
    "print(est_vrai)"
   ]
  },
  {
   "cell_type": "markdown",
   "id": "23d7ce49",
   "metadata": {
    "id": "85eb4f96"
   },
   "source": [
    "**Exercise 01:** \n",
    "> Vérifiez le type de données de toutes vos variables à l'aide de la fonction intégrée `type()`.**\n"
   ]
  },
  {
   "cell_type": "code",
   "execution_count": null,
   "id": "93fb9610",
   "metadata": {
    "id": "c5c47124",
    "scrolled": false
   },
   "outputs": [],
   "source": [
    "print(type(prenom))\n",
    "print(type(nom))\n",
    "print(type(prenom_nom))\n",
    "print(type(ville))\n",
    "print(type(age))\n",
    "print(type(annee))\n",
    "print(type(est_marie))\n",
    "print(type(est_vrai))"
   ]
  },
  {
   "cell_type": "markdown",
   "id": "aea1eb00",
   "metadata": {
    "id": "76cdc19b"
   },
   "source": [
    "**Exercise 02:** \n",
    "> Calculez la valeur de $y$ ($y = x^2 + 6x + 9$). Essayez d'utiliser différentes valeurs de $x$ et déterminez à quelle valeur de $x$ $y$ sera égal à 0.**"
   ]
  },
  {
   "cell_type": "code",
   "execution_count": null,
   "id": "ba36db1d",
   "metadata": {
    "id": "fb4df11a"
   },
   "outputs": [],
   "source": [
    "i=0\n",
    "while i<5:\n",
    "    print(\"for\", i, \":\", i**2+6*i+9)\n",
    "    i+=1"
   ]
  },
  {
   "cell_type": "markdown",
   "id": "3bdee063",
   "metadata": {
    "id": "8f40e3ab"
   },
   "source": [
    "**Exercise 03:** \n",
    ">    \n",
    "\n",
    "     1. Déclarez votre âge sous forme de variable entière\n",
    "     2. Déclarez votre taille en tant que variable flottante\n",
    "     3. Déclarez une variable qui stocke la base et la hauteur d'un triangle. Calculez l'aire de ce triangle (aire = 0,5 x b x h)."
   ]
  },
  {
   "cell_type": "code",
   "execution_count": null,
   "id": "feeaa864",
   "metadata": {
    "id": "rpAlhgG_9A5z"
   },
   "outputs": [],
   "source": [
    "age = 21\n",
    "taille = 1.9\n",
    "b, h = 4, 3.5\n",
    "aire = 0.5 * b * h\n",
    "#print(\"The area of this triangle is equal to\", aire, \"ua.\")"
   ]
  },
  {
   "cell_type": "markdown",
   "id": "8f10ca4f",
   "metadata": {
    "id": "9957391d"
   },
   "source": [
    "## *Astuce : recevoir les entrées de l'utilisateur *\n",
    "**Pour recevoir une entrée de l'utilisateur, nous utilisons `input()`.**.\n",
    "\n",
    "**Exemple**\n",
    "Recevez deux nombres en entrée de l'utilisateur et calculez leur puissance :\n",
    "```python\n",
    "base = input(\"Entrez une base : \")\n",
    "exposant = input(\"Entrez un exposant : \")\n",
    "resultat = float(base) ** float(exposant)\n",
    "print(f \"{base} à la puissance {exposant} = {résultat}\")\n",
    "```"
   ]
  },
  {
   "cell_type": "markdown",
   "id": "2887bae3",
   "metadata": {
    "id": "0fb34716"
   },
   "source": [
    "**Exercise 04:** \n",
    "> **Write a small code that asks the user to enter the side $a$, the side $b$ and the side $c$ of a triangle. Calculate the perimeter of the triangle (perimeter = a + b + c).**"
   ]
  },
  {
   "cell_type": "code",
   "execution_count": null,
   "id": "52de1e11",
   "metadata": {
    "id": "6618f067"
   },
   "outputs": [],
   "source": [
    "a = input(\"Enter the side a of a triangle : \")\n",
    "b = input(\"Enter the side b of this triangle : \")\n",
    "c = input(\"Enter the side c of this triangle : \")\n",
    "perimeter = float(a) + float(b) + float(c)\n",
    "#print(\"The perimeter of this triangle equals\", perimeter, \"ul.\")"
   ]
  },
  {
   "cell_type": "markdown",
   "id": "becacebb",
   "metadata": {
    "id": "e482c15c"
   },
   "source": [
    "**Exercise 05:** \n",
    "> **Obtenez la longueur et la largeur d'un rectangle à l'aide de l'invite. Calculer sa `superficie` et son `perimetre`.**"
   ]
  },
  {
   "cell_type": "code",
   "execution_count": null,
   "id": "3072c0b9",
   "metadata": {
    "id": "286cec4c"
   },
   "outputs": [],
   "source": [
    "longueur = input(\"Entrez la longueur d'un rectangle : \")\n",
    "largeur = input(\"Entrez la largeur de ce rectangle : \")\n",
    "longueur,largeur = float(longueur), float(largeur)\n",
    "perimetre = (longueur + largeur) * 2\n",
    "superficie = longueur * largeur\n",
    "print(\"Le perimetre de ce rectangle est de\", perimetre)\n",
    "print(\"La superficie de ce rectangle est de\", superficie)"
   ]
  },
  {
   "cell_type": "markdown",
   "id": "85d8cd88",
   "metadata": {
    "id": "cf15844c"
   },
   "source": [
    "**Exercice 06:** \n",
    "> **Obtenez le rayon d'un cercle en utilisant l'invite. Calculez l'aire (aire = pi x r x r) et la circonférence (c = 2 x pi x r) où pi = 3,14.**"
   ]
  },
  {
   "cell_type": "code",
   "execution_count": null,
   "id": "2c7119b5",
   "metadata": {
    "id": "ee0ee85e"
   },
   "outputs": [],
   "source": [
    "rayon = input(\"Entrez le rayon d'un cercle : \")\n",
    "rayon = float(rayon)\n",
    "pi = 3.14\n",
    "circonference = 2 * pi * rayon\n",
    "aire = pi * rayon**2\n",
    "#print(\"La circonference de ce cercle est\", circonference, \"ul.\")\n",
    "#print(\"L'aire de ce cercle est de\", aire, \"ua.\")"
   ]
  },
  {
   "cell_type": "markdown",
   "id": "3d500fc0",
   "metadata": {
    "id": "d9dec37a"
   },
   "source": [
    "**Exercice 07:**\n",
    "> **Calculez la pente, l'ordonnée à l'origine en x de $y = 2x -2$.**"
   ]
  },
  {
   "cell_type": "code",
   "execution_count": null,
   "id": "7c1aca82",
   "metadata": {
    "id": "203e449c"
   },
   "outputs": [],
   "source": [
    "(x_1, x_2) = (-1, 1)\n",
    "(y_1, y_2) = (2*x_1 - 2, 2*x_2 - 2)\n",
    "pente = (y_2 - y_1) / (x_2 - x_1)\n",
    "#print(\"La pente vaut :\", pente)\n",
    "x = 0\n",
    "y = 2*x - 2\n",
    "print(\"L'ordonnée à l'origine en x vaut :\", y)"
   ]
  },
  {
   "cell_type": "markdown",
   "id": "14198ad9",
   "metadata": {
    "id": "2f74d685"
   },
   "source": [
    "**Exercice 08:** \n",
    "> **Rédigez un script qui demande à l'utilisateur d'entrer les heures et le taux horaire. Calculez la rémunération de la personne ?**"
   ]
  },
  {
   "cell_type": "code",
   "execution_count": null,
   "id": "cb99a4d5",
   "metadata": {
    "id": "7cff5a0a"
   },
   "outputs": [],
   "source": [
    "heures = input(\"Entrez les heures : \")\n",
    "tauxHoraire = input(\"Entrez le taux horaire : \")\n",
    "remuneration = float(heures) * float(tauxHoraire)\n",
    "print(\"Votre remuneration est de\", remuneration)"
   ]
  },
  {
   "cell_type": "markdown",
   "id": "d3c4bda7",
   "metadata": {
    "id": "6ddd662c"
   },
   "source": [
    "**Exercice 09:** \n",
    "> **Écrivez un script qui demande à l'utilisateur d'entrer le nombre d'années. Calculez le nombre de secondes qu'une personne peut vivre. Supposons qu'une personne puisse vivre cent ans.**"
   ]
  },
  {
   "cell_type": "code",
   "execution_count": null,
   "id": "f9881dcf",
   "metadata": {
    "id": "44c2a63c"
   },
   "outputs": [],
   "source": [
    "age = input(\"Entrez votre age : \")\n",
    "uneAnnee = 365 * 24 * 60 * 60\n",
    "ageEnSeconde = int(age) * uneAnnee\n",
    "print(\"Vous avez deja vecu pendant\", ageEnSeconde, \"seconde(s) !\")"
   ]
  },
  {
   "cell_type": "markdown",
   "id": "7c53a545",
   "metadata": {
    "id": "9b253387"
   },
   "source": [
    "**Exercice 10:** \n",
    "> **Écrivez un script Python qui affiche le tableau suivant**\n",
    "\n",
    "    1 1 1 1 1\n",
    "    \n",
    "    2 1 2 4 8\n",
    "    \n",
    "    3 1 3 9 27\n",
    "    \n",
    "    4 1 4 16 64\n",
    "    \n",
    "    5 1 5 25 125"
   ]
  },
  {
   "cell_type": "code",
   "execution_count": null,
   "id": "b4a2cd7c",
   "metadata": {
    "id": "aa2dae84"
   },
   "outputs": [],
   "source": [
    "print(\"\"\"1 1 1 1 1\n",
    "\n",
    "2 1 2 4 8\n",
    "\n",
    "3 1 3 9 27\n",
    "\n",
    "4 1 4 16 64\n",
    "\n",
    "5 1 5 25 125\"\"\")"
   ]
  },
  {
   "cell_type": "markdown",
   "id": "75449616",
   "metadata": {
    "id": "953e7d8c"
   },
   "source": [
    "**Exercise 11:** \n",
    ">**Attribuez aux variables `temps` et `distance` les valeurs $6.892$ et $19.7$. Calculer et afficher la valeur de la vitesse. Améliorer l'affichage en imposant un chiffre après la virgule.**"
   ]
  },
  {
   "cell_type": "code",
   "execution_count": null,
   "id": "48b970de",
   "metadata": {
    "id": "6d787289"
   },
   "outputs": [],
   "source": [
    "temps = 6.892\n",
    "distance = 19.7\n",
    "vitesse = distance / temps\n",
    "print(\"La vitesse est de {v:.1f} uv.\".format(v = vitesse))"
   ]
  },
  {
   "cell_type": "markdown",
   "id": "e23963da",
   "metadata": {
    "id": "2d0f1ff9"
   },
   "source": [
    "**Exercice 12:** \n",
    "> **Écrire un programme qui, à partir de la saisie d’un rayon et d’une hauteur, calcule le volume d’un cône droit.**"
   ]
  },
  {
   "cell_type": "code",
   "execution_count": null,
   "id": "b125a47c",
   "metadata": {
    "id": "969f5f68"
   },
   "outputs": [],
   "source": [
    "rayon = input(\"Entrez le rayon : \")\n",
    "hauteur = input(\"Entrez la hauteur :\")\n",
    "rayon, hauteur = float(rayon), float(hauteur)\n",
    "pi = 3.14\n",
    "volume = (pi * rayon**2 * hauteur) / 3\n",
    "print(\"Le volume de ce cône est :\", volume, \"ua.\")"
   ]
  },
  {
   "cell_type": "markdown",
   "id": "c8929770",
   "metadata": {
    "id": "e9b3ce2a"
   },
   "source": [
    "**Exercise 13:** \n",
    "> **L'utilisateur donne un entier positif et le programme annonce combien de fois de suite cet entier est divisible par 2.**"
   ]
  },
  {
   "cell_type": "code",
   "execution_count": null,
   "id": "e141edbe",
   "metadata": {
    "id": "5c8fea9a"
   },
   "outputs": [],
   "source": [
    "a = input(\"Entrez un entier positif : \")\n",
    "a = int(a)\n",
    "print(a, \"est\", (a/2), \"fois divisible par 2.\")"
   ]
  },
  {
   "cell_type": "markdown",
   "id": "7488578d",
   "metadata": {
    "id": "0485aed6"
   },
   "source": [
    "**Exercise 14:** \n",
    ">**L'utilisateur donne un nombre entier entre 2 et 12, le programme donne le nombre de façons de le faire en lançant deux dés.**"
   ]
  },
  {
   "cell_type": "code",
   "execution_count": null,
   "id": "6cbb7868",
   "metadata": {
    "id": "31f48a15"
   },
   "outputs": [],
   "source": [
    "a = input(\"Entrez un entier entre 2 et 12 : \")\n",
    "a = int(a)\n",
    "r = a//8\n",
    "print(\"Il y a\", (12*r+(-1)**r*(a-1)), \"façon(s) de le faire !\")"
   ]
  },
  {
   "cell_type": "markdown",
   "id": "d463d3af",
   "metadata": {
    "id": "cead0c8f"
   },
   "source": [
    "**Exercice 15:** \n",
    "> **Utilisez la fonction d'entrée intégrée `input()` pour obtenir le `_prénom_`, le `_nom_`, le `_pays_d_origine` et l'`_age_` d'un utilisateur et stockez la valeur dans les noms des variables correspondantes.**"
   ]
  },
  {
   "cell_type": "code",
   "execution_count": null,
   "id": "65b511e7",
   "metadata": {
    "id": "0a2694a9"
   },
   "outputs": [],
   "source": [
    "prenom = input(\"Entrez votre prenom : \")\n",
    "nom = input(\"Entrez votre nom : \")\n",
    "pays = input(\"Entrez votre pays d'origine : \")\n",
    "age = input(\"Entrez votre age : \")\n",
    "age = int(age)"
   ]
  },
  {
   "cell_type": "markdown",
   "id": "52b03371",
   "metadata": {
    "id": "33240a56"
   },
   "source": [
    "**Exercice 16:** \n",
    "\n",
    "**Déclarer $5$ comme `num_one` et $4$ comme `num_two`**\n",
    "\n",
    "   1. Additionner `num_one` et `num_two` et affecter la valeur à une variable `totale`.\n",
    "   2. Soustraire `num_two` de `num_one` et affecter la valeur à une variable `diff`.\n",
    "   3. Multipliez le `num_one` et le `num_two` et attribuez la valeur à une variable `produit`.\n",
    "   4. Divisez le `num_one` par le `num_two` et attribuez la valeur à une variable `division`.\n",
    "   5. Calculez `num_one` à la puissance de `num_two` et attribuez la valeur à une variable `exp`."
   ]
  },
  {
   "cell_type": "code",
   "execution_count": null,
   "id": "be242945",
   "metadata": {
    "id": "c2f3e814"
   },
   "outputs": [],
   "source": [
    "num_one = 6\n",
    "num_two = 4\n",
    "totale = num_one + num_two\n",
    "diff = num_one - num_two\n",
    "produit = num_one * num_two\n",
    "division = num_one / num_two\n",
    "exp = num_one**num_two"
   ]
  },
  {
   "cell_type": "markdown",
   "id": "cc432497",
   "metadata": {
    "id": "80763237"
   },
   "source": [
    "<center> <b> <span style=\"color:orange;\"> 🎉 FÉLICITATIONS! 🎉 </span> </b></center>"
   ]
  }
 ],
 "metadata": {
  "colab": {
   "collapsed_sections": [],
   "name": "In2Py_TP_01.ipynb",
   "provenance": []
  },
  "kernelspec": {
   "display_name": "Python 3 (ipykernel)",
   "language": "python",
   "name": "python3"
  },
  "language_info": {
   "codemirror_mode": {
    "name": "ipython",
    "version": 3
   },
   "file_extension": ".py",
   "mimetype": "text/x-python",
   "name": "python",
   "nbconvert_exporter": "python",
   "pygments_lexer": "ipython3",
   "version": "3.9.12"
  }
 },
 "nbformat": 4,
 "nbformat_minor": 5
}
